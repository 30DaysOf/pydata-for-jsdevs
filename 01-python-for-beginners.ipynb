{
 "cells": [
  {
   "cell_type": "markdown",
   "metadata": {},
   "source": [
    "nitya: /createNotebook Introduction To Python For Beginners\n",
    "\n",
    "GitHub Copilot: Here's an outline for a Jupyter notebook that introduces Python for beginners:\n",
    "\n",
    "* **Introduction to Python**\n",
    "* **Variables and Data Types**\n",
    "* **Operators**\n",
    "* **Control Structures**\n",
    "* **Functions**\n",
    "* **Modules and Packages**\n",
    "* **File Handling**"
   ]
  },
  {
   "cell_type": "markdown",
   "metadata": {},
   "source": [
    "# Introduction to Python\n",
    "Introduce Python and its features, including its syntax, data types, and control structures."
   ]
  },
  {
   "cell_type": "code",
   "execution_count": null,
   "metadata": {},
   "outputs": [],
   "source": [
    "# Introduction to Python\n",
    "\n",
    "# Python is a high-level programming language that is easy to learn and use. It is widely used in data science, web development, and many other fields.\n",
    "\n",
    "# Syntax\n",
    "# Python has a simple and easy-to-read syntax. It uses indentation to indicate blocks of code, instead of using curly braces like other programming languages.\n",
    "\n",
    "# Data Types\n",
    "# Python has several built-in data types, including integers, floats, strings, booleans, and lists.\n",
    "\n",
    "# Control Structures\n",
    "# Python has several control structures, including if/else statements, for loops, and while loops. These structures allow you to control the flow of your program and make decisions based on certain conditions."
   ]
  },
  {
   "cell_type": "markdown",
   "metadata": {},
   "source": [
    "# Variables and Data Types\n",
    "Explain how to declare and use variables in Python, including the different data types available."
   ]
  },
  {
   "cell_type": "code",
   "execution_count": null,
   "metadata": {},
   "outputs": [],
   "source": [
    "# Variables and Data Types\n",
    "\n",
    "# Variables are used to store values in Python. You can declare a variable by assigning a value to it using the = operator.\n",
    "# The value can be of any data type, including integers, floats, strings, booleans, and lists.\n",
    "\n",
    "# Integer variable\n",
    "num1 = 10\n",
    "\n",
    "# Float variable\n",
    "num2 = 3.14\n",
    "\n",
    "# String variable\n",
    "name = \"John\"\n",
    "\n",
    "# Boolean variable\n",
    "is_true = True\n",
    "\n",
    "# List variable\n",
    "my_list = [1, 2, 3, 4, 5]\n",
    "\n",
    "# You can also assign multiple variables at once using commas\n",
    "x, y, z = 1, 2, 3\n",
    "\n",
    "# You can check the data type of a variable using the type() function\n",
    "print(type(num1)) # Output: <class 'int'>\n",
    "print(type(num2)) # Output: <class 'float'>\n",
    "print(type(name)) # Output: <class 'str'>\n",
    "print(type(is_true)) # Output: <class 'bool'>\n",
    "print(type(my_list)) # Output: <class 'list'>\n",
    "print(type(x)) # Output: <class 'int'>\n",
    "print(type(y)) # Output: <class 'int'>\n",
    "print(type(z)) # Output: <class 'int'>"
   ]
  }
 ],
 "metadata": {
  "language_info": {
   "name": "python"
  },
  "orig_nbformat": 4
 },
 "nbformat": 4,
 "nbformat_minor": 2
}
