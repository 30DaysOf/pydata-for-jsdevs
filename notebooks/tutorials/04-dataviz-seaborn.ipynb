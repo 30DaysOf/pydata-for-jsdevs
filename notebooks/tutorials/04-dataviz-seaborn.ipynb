{
 "cells": [
  {
   "cell_type": "markdown",
   "metadata": {},
   "source": [
    "> /createNotebook Create a notebook that explains how to use the seaborn package for data visualizations - use the data/kaggle/IPL-2022.csv file as your input example"
   ]
  },
  {
   "cell_type": "markdown",
   "metadata": {},
   "source": [
    "# Introduction to Seaborn\n",
    "Introduce Seaborn and its importance in data visualization. Explain how Seaborn helps in creating beautiful and informative visualizations."
   ]
  },
  {
   "cell_type": "code",
   "execution_count": null,
   "metadata": {},
   "outputs": [],
   "source": [
    "# Importing necessary libraries\n",
    "import pandas as pd\n",
    "import seaborn as sns\n",
    "\n",
    "# Loading the IPL-2022 dataset\n",
    "ipl_data = pd.read_csv('./../../data/kaggle/IPL-2022.csv')\n",
    "\n",
    "# Introducing Seaborn and its importance in data visualization\n",
    "print(\"Seaborn is a Python data visualization library based on Matplotlib. It provides a high-level interface for creating informative and attractive statistical graphics. Seaborn helps in creating beautiful and informative visualizations by providing a variety of built-in themes and color palettes, as well as functions for visualizing univariate and bivariate distributions, regression models, and categorical variables.\")"
   ]
  },
  {
   "cell_type": "markdown",
   "metadata": {},
   "source": [
    "# Loading the Data\n",
    "Load the IPL-2022.csv file into a Pandas DataFrame. Show examples of using Pandas to explore and manipulate the data."
   ]
  },
  {
   "cell_type": "code",
   "execution_count": null,
   "metadata": {},
   "outputs": [],
   "source": [
    "# Loading the IPL-2022 dataset\n",
    "ipl_data = pd.read_csv('./../../data/kaggle/IPL-2022.csv')\n",
    "\n",
    "# Displaying the first 5 rows of the dataset\n",
    "print(\"First 5 rows of the dataset:\")\n",
    "print(ipl_data.head())\n"
   ]
  },
  {
   "cell_type": "code",
   "execution_count": null,
   "metadata": {},
   "outputs": [],
   "source": [
    "\n",
    "# Displaying the last 5 rows of the dataset\n",
    "print(\"Last 5 rows of the dataset:\")\n",
    "print(ipl_data.tail())\n"
   ]
  },
  {
   "cell_type": "code",
   "execution_count": null,
   "metadata": {},
   "outputs": [],
   "source": [
    "\n",
    "# Displaying the shape of the dataset\n",
    "print(\"Shape of the dataset:\")\n",
    "print(ipl_data.shape)\n",
    "print(\"Size of the dataset:\")\n",
    "print(ipl_data.size)\n",
    "print(\"Dimensions of the dataset:\")\n",
    "print(ipl_data.ndim)\n",
    "print(\"Number of Columns of the dataset:\")\n",
    "print(ipl_data.columns.size)\n"
   ]
  },
  {
   "cell_type": "code",
   "execution_count": null,
   "metadata": {},
   "outputs": [],
   "source": [
    "\n",
    "# Displaying the columns of the dataset\n",
    "print(\"Columns of the dataset:\")\n",
    "print(ipl_data.columns)\n"
   ]
  },
  {
   "cell_type": "code",
   "execution_count": null,
   "metadata": {},
   "outputs": [],
   "source": [
    "\n",
    "# Displaying the data types of the columns\n",
    "print(\"Data types of the columns:\")\n",
    "print(ipl_data.dtypes)\n"
   ]
  },
  {
   "cell_type": "code",
   "execution_count": null,
   "metadata": {},
   "outputs": [],
   "source": [
    "\n",
    "# Displaying the summary statistics of the dataset\n",
    "print(\"Summary statistics of the dataset:\")\n",
    "print(ipl_data.describe())"
   ]
  },
  {
   "cell_type": "markdown",
   "metadata": {},
   "source": [
    "# Exploratory Data Analysis\n",
    "Perform exploratory data analysis on the IPL-2022 dataset. Show examples of using Pandas to calculate summary statistics and visualize the data."
   ]
  },
  {
   "cell_type": "code",
   "execution_count": null,
   "metadata": {},
   "outputs": [],
   "source": [
    "# Visualize the number of matches won by each \"match_winner\" \n",
    "# with the match winner on x axis and win count on y axis\n",
    "# with aspect ratio of 16:9\n",
    "import seaborn as sns\n",
    "\n",
    "sns.set_style(\"whitegrid\")\n",
    "sns.set(rc={'figure.figsize':(16,9)})\n",
    "sns.countplot(x='match_winner', data=ipl_data)\n"
   ]
  },
  {
   "cell_type": "code",
   "execution_count": null,
   "metadata": {},
   "outputs": [],
   "source": [
    "# Visualize the number of matches won by each \"match_winner\" \n",
    "# with the match winner on x axis and win count on y axis\n",
    "# with aspect ratio of 16:9 and use object-oriented approach\n",
    "\n",
    "import matplotlib.pyplot as plt\n",
    "import seaborn as sns\n",
    "\n",
    "# create a figure and axis object\n",
    "fig, ax = plt.subplots(figsize=(16, 9))\n",
    "\n",
    "# create the bar plot\n",
    "sns.countplot(x='match_winner', data=ipl_data, ax=ax)\n",
    "\n",
    "# set the x-axis label\n",
    "ax.set_xlabel('Match Winner')\n",
    "\n",
    "# set the y-axis label\n",
    "ax.set_ylabel('Win Count')\n",
    "\n",
    "# set the title\n",
    "ax.set_title('Number of Matches Won by Each Match Winner')\n",
    "\n",
    "# show the plot\n",
    "plt.show()\n"
   ]
  },
  {
   "cell_type": "code",
   "execution_count": null,
   "metadata": {},
   "outputs": [],
   "source": [
    "# Visualizing the distribution of runs scored using a histogram\n",
    "sns.histplot(data=ipl_data, x=\"first_ings_score\", bins=20)"
   ]
  },
  {
   "cell_type": "code",
   "execution_count": null,
   "metadata": {},
   "outputs": [],
   "source": [
    "# Visualize the distribution of the player_of_the_match count \n",
    "# with the player name on x axis and award count on y axis\n",
    "#  - first check that the player_of_the_nm_match column exists in the dataset\n",
    "#  - if it exists, then visualize the distribution of player_of_the_match count\n",
    "# with the player name on x axis and award count on y axis\n",
    "# with aspect ratio of 16:9 and use object-oriented approach\n",
    "# check if the player_of_the_match column exists in the dataset\n",
    "if 'player_of_the_match' in ipl_data.columns:\n",
    "    # create a figure and axis object\n",
    "    fig, ax = plt.subplots(figsize=(16, 9))\n",
    "\n",
    "    # create the bar plot\n",
    "    sns.countplot(x='player_of_the_match', data=ipl_data, ax=ax)\n",
    "\n",
    "    # set the x-axis label\n",
    "    ax.set_xlabel('Player Name')\n",
    "\n",
    "    # set the y-axis label\n",
    "    ax.set_ylabel('Award Count')\n",
    "\n",
    "    # set the title\n",
    "    ax.set_title('Distribution of Player of the Match Awards')\n",
    "\n",
    "    # show the plot\n",
    "    plt.show()\n",
    "else:\n",
    "    print(\"The player_of_the_match column does not exist in the dataset.\")\n"
   ]
  },
  {
   "cell_type": "code",
   "execution_count": null,
   "metadata": {},
   "outputs": [],
   "source": [
    "# Visualize the distribution of the bowler_of_the_match count \n",
    "# with the player name on x axis and award count on y axis\n",
    "#  - first check that the bowler_of_the_match column exists in the dataset\n",
    "#  - if it exists, then visualize the distribution of bowler_of_the_match count\n",
    "# with the player name on x axis and award count on y axis\n",
    "# with aspect ratio of 16:9 and use object-oriented approach\n",
    "import seaborn as sns\n",
    "import matplotlib.pyplot as plt\n",
    "\n",
    "# check if the bowler_of_the_match column exists in the dataset\n",
    "if 'bowler_of_the_match' in ipl_data.columns:\n",
    "    # create a figure and axis object\n",
    "    fig, ax = plt.subplots(figsize=(16, 9))\n",
    "\n",
    "    # create the bar plot\n",
    "    sns.countplot(x='bowler_of_the_match', data=ipl_data, ax=ax)\n",
    "\n",
    "    # set the x-axis label\n",
    "    ax.set_xlabel('Player Name')\n",
    "\n",
    "    # set the y-axis label\n",
    "    ax.set_ylabel('Award Count')\n",
    "\n",
    "    # set the title\n",
    "    ax.set_title('Distribution of Bowler of the Match Awards')\n",
    "\n",
    "    # show the plot\n",
    "    plt.show()\n",
    "else:\n",
    "    print(\"The bowler_of_the_match column does not exist in the dataset.\")\n"
   ]
  },
  {
   "cell_type": "code",
   "execution_count": null,
   "metadata": {},
   "outputs": [],
   "source": [
    "# Create a stacked bar chart using plot with kind set to bar and stacked set to True\n",
    "# Have the x-axis be the top_scorer column and the y-axis be the values for the highscore column\n",
    "import seaborn as sns\n",
    "\n",
    "# create the plot\n",
    "sns.barplot(x='top_scorer', y='highscore', data=ipl_data, estimator=sum, ci=None)\n",
    "\n",
    "# set the x-axis label\n",
    "plt.xlabel('Top Scorer')\n",
    "\n",
    "# set the y-axis label\n",
    "plt.ylabel('High Score')\n",
    "\n",
    "# set the title\n",
    "plt.title('Stacked Bar Chart of High Scores by Top Scorers')\n",
    "\n",
    "# show the plot\n",
    "plt.show()"
   ]
  },
  {
   "cell_type": "code",
   "execution_count": null,
   "metadata": {},
   "outputs": [],
   "source": [
    "ipl_data['highscore'].values"
   ]
  },
  {
   "cell_type": "markdown",
   "metadata": {},
   "source": [
    "# Conclusion\n",
    "Summarize the key takeaways from the notebook. Encourage the reader to explore Seaborn further and use it for their own data visualization projects."
   ]
  },
  {
   "cell_type": "code",
   "execution_count": null,
   "metadata": {},
   "outputs": [],
   "source": [
    "# Summarizing the key takeaways from the notebook\n",
    "print(\"In this notebook, we have explored the Seaborn package for data visualization using the IPL-2022 dataset as an example. We have learned how Seaborn provides a high-level interface for creating informative and attractive statistical graphics, and how it helps in creating beautiful and informative visualizations by providing a variety of built-in themes and color palettes, as well as functions for visualizing univariate and bivariate distributions, regression models, and categorical variables.\")\n",
    "\n",
    "# Encouraging the reader to explore Seaborn further and use it for their own data visualization projects\n",
    "print(\"We encourage the reader to explore Seaborn further and use it for their own data visualization projects. Seaborn is a powerful tool for creating beautiful and informative visualizations, and can be used to explore and communicate insights from a wide range of datasets. With its intuitive interface and extensive documentation, Seaborn is a great choice for anyone looking to create compelling data visualizations.\")"
   ]
  }
 ],
 "metadata": {
  "kernelspec": {
   "display_name": "Python 3",
   "language": "python",
   "name": "python3"
  },
  "language_info": {
   "codemirror_mode": {
    "name": "ipython",
    "version": 3
   },
   "file_extension": ".py",
   "mimetype": "text/x-python",
   "name": "python",
   "nbconvert_exporter": "python",
   "pygments_lexer": "ipython3",
   "version": "3.10.8"
  },
  "orig_nbformat": 4
 },
 "nbformat": 4,
 "nbformat_minor": 2
}
