{
 "cells": [
  {
   "cell_type": "markdown",
   "metadata": {},
   "source": [
    "# 1. Project LIDA\n",
    "\n",
    "LIDA treats visualizations as code and provides a clean api for generating, executing, editing, explaining, evaluating and repairing visualization code.\n",
    "\n",
    "- ✅ Data Summarization\n",
    "- ✅ Goal Generation\n",
    "- ✅ Visualization Generation\n",
    "- ✅ Visualization Editing\n",
    "- ✅ Visualization Explanation\n",
    "- ✅ Visualization Evaluation and Repair\n",
    "- ✅ Visualization Recommendation\n",
    "- ✅ Infographic Generation (beta) # pip install lida[infographics]"
   ]
  },
  {
   "cell_type": "code",
   "execution_count": 27,
   "metadata": {},
   "outputs": [
    {
     "data": {
      "text/html": [
       "<div>\n",
       "<style scoped>\n",
       "    .dataframe tbody tr th:only-of-type {\n",
       "        vertical-align: middle;\n",
       "    }\n",
       "\n",
       "    .dataframe tbody tr th {\n",
       "        vertical-align: top;\n",
       "    }\n",
       "\n",
       "    .dataframe thead th {\n",
       "        text-align: right;\n",
       "    }\n",
       "</style>\n",
       "<table border=\"1\" class=\"dataframe\">\n",
       "  <thead>\n",
       "    <tr style=\"text-align: right;\">\n",
       "      <th></th>\n",
       "      <th>Question</th>\n",
       "      <th>Visualization</th>\n",
       "      <th>Rationale</th>\n",
       "    </tr>\n",
       "  </thead>\n",
       "  <tbody>\n",
       "    <tr>\n",
       "      <th>0</th>\n",
       "      <td>What is the distribution of first innings scores?</td>\n",
       "      <td>Histogram of first_ings_score</td>\n",
       "      <td>This visualization will show the frequency distribution of first innings scores, allowing us to ...</td>\n",
       "    </tr>\n",
       "    <tr>\n",
       "      <th>1</th>\n",
       "      <td>Which team has won the most matches?</td>\n",
       "      <td>Bar chart of match_winner</td>\n",
       "      <td>This visualization will show the number of matches won by each team, allowing us to identify the...</td>\n",
       "    </tr>\n",
       "    <tr>\n",
       "      <th>2</th>\n",
       "      <td>What is the distribution of margins of victory?</td>\n",
       "      <td>Histogram of margin</td>\n",
       "      <td>This visualization will show the frequency distribution of margins of victory, allowing us to un...</td>\n",
       "    </tr>\n",
       "    <tr>\n",
       "      <th>3</th>\n",
       "      <td>Which player has won the most 'Player of the Match' awards?</td>\n",
       "      <td>Bar chart of player_of_the_match</td>\n",
       "      <td>This visualization will show the number of 'Player of the Match' awards won by each player, allo...</td>\n",
       "    </tr>\n",
       "    <tr>\n",
       "      <th>4</th>\n",
       "      <td>What is the distribution of high scores?</td>\n",
       "      <td>Histogram of highscore</td>\n",
       "      <td>This visualization will show the frequency distribution of high scores, allowing us to understan...</td>\n",
       "    </tr>\n",
       "    <tr>\n",
       "      <th>5</th>\n",
       "      <td>Which team has the highest average first innings score?</td>\n",
       "      <td>Bar chart of team1 and first_ings_score</td>\n",
       "      <td>This visualization will show the average first innings score for each team, allowing us to ident...</td>\n",
       "    </tr>\n",
       "    <tr>\n",
       "      <th>6</th>\n",
       "      <td>What is the distribution of best bowling figures?</td>\n",
       "      <td>Histogram of best_bowling_figure</td>\n",
       "      <td>This visualization will show the frequency distribution of best bowling figures, allowing us to ...</td>\n",
       "    </tr>\n",
       "    <tr>\n",
       "      <th>7</th>\n",
       "      <td>Which team has the highest number of wickets in the second innings?</td>\n",
       "      <td>Bar chart of team2 and second_ings_wkts</td>\n",
       "      <td>This visualization will show the number of wickets taken by each team in the second innings, all...</td>\n",
       "    </tr>\n",
       "    <tr>\n",
       "      <th>8</th>\n",
       "      <td>What is the distribution of first innings wickets?</td>\n",
       "      <td>Histogram of first_ings_wkts</td>\n",
       "      <td>This visualization will show the frequency distribution of first innings wickets, allowing us to...</td>\n",
       "    </tr>\n",
       "    <tr>\n",
       "      <th>9</th>\n",
       "      <td>Which team has the highest number of wins in the playoffs stage?</td>\n",
       "      <td>Bar chart of team1 and stage=Playoff</td>\n",
       "      <td>This visualization will show the number of wins for each team in the playoffs stage, allowing us...</td>\n",
       "    </tr>\n",
       "  </tbody>\n",
       "</table>\n",
       "</div>"
      ],
      "text/plain": [
       "                                                              Question  \\\n",
       "0                    What is the distribution of first innings scores?   \n",
       "1                                 Which team has won the most matches?   \n",
       "2                      What is the distribution of margins of victory?   \n",
       "3          Which player has won the most 'Player of the Match' awards?   \n",
       "4                             What is the distribution of high scores?   \n",
       "5              Which team has the highest average first innings score?   \n",
       "6                    What is the distribution of best bowling figures?   \n",
       "7  Which team has the highest number of wickets in the second innings?   \n",
       "8                   What is the distribution of first innings wickets?   \n",
       "9     Which team has the highest number of wins in the playoffs stage?   \n",
       "\n",
       "                             Visualization  \\\n",
       "0            Histogram of first_ings_score   \n",
       "1                Bar chart of match_winner   \n",
       "2                      Histogram of margin   \n",
       "3         Bar chart of player_of_the_match   \n",
       "4                   Histogram of highscore   \n",
       "5  Bar chart of team1 and first_ings_score   \n",
       "6         Histogram of best_bowling_figure   \n",
       "7  Bar chart of team2 and second_ings_wkts   \n",
       "8             Histogram of first_ings_wkts   \n",
       "9     Bar chart of team1 and stage=Playoff   \n",
       "\n",
       "                                                                                             Rationale  \n",
       "0  This visualization will show the frequency distribution of first innings scores, allowing us to ...  \n",
       "1  This visualization will show the number of matches won by each team, allowing us to identify the...  \n",
       "2  This visualization will show the frequency distribution of margins of victory, allowing us to un...  \n",
       "3  This visualization will show the number of 'Player of the Match' awards won by each player, allo...  \n",
       "4  This visualization will show the frequency distribution of high scores, allowing us to understan...  \n",
       "5  This visualization will show the average first innings score for each team, allowing us to ident...  \n",
       "6  This visualization will show the frequency distribution of best bowling figures, allowing us to ...  \n",
       "7  This visualization will show the number of wickets taken by each team in the second innings, all...  \n",
       "8  This visualization will show the frequency distribution of first innings wickets, allowing us to...  \n",
       "9  This visualization will show the number of wins for each team in the playoffs stage, allowing us...  "
      ]
     },
     "metadata": {},
     "output_type": "display_data"
    }
   ],
   "source": [
    "# 1. Getting Started\n",
    "\n",
    "from lida import Manager, llm\n",
    "\n",
    "csvfile = \"./../../data/kaggle/IPL-2022.csv\"\n",
    "lida = Manager(text_gen = llm(\"openai\")) # palm, cohere ..\n",
    "summary = lida.summarize(csvfile)\n",
    "goals = lida.goals(summary, n=10) # exploratory data analysis\n",
    "\n",
    "# create a list of dictionaries containing the goal information\n",
    "import pandas as pd\n",
    "goal_list = []\n",
    "for goal in goals:\n",
    "    goal_dict = {'Question': goal.question, 'Visualization': goal.visualization}\n",
    "    goal_list.append(goal_dict)\n",
    "df = pd.DataFrame(goal_list)\n",
    "display(df)\n",
    "\n"
   ]
  },
  {
   "cell_type": "code",
   "execution_count": null,
   "metadata": {},
   "outputs": [],
   "source": [
    "# Explore Goal 1\n",
    "\n",
    "charts = lida.visualize(summary=summary, goal=goals[0]) # exploratory data analysis\n",
    "print(\"Charts length:\", len(charts))\n",
    "charts[0]"
   ]
  },
  {
   "cell_type": "code",
   "execution_count": null,
   "metadata": {},
   "outputs": [],
   "source": [
    "# Explore Goal 2\n",
    "print(\"Goal index:\", goals[1].index)\n",
    "print(\"Goal question:\", goals[1].question)\n",
    "print(\"Goal rationale:\", goals[1].rationale)\n",
    "print(\"Goal dataviz:\", goals[1].visualization)\n",
    "print(\"\\nCharts length:\", len(charts))\n",
    "charts = lida.visualize(summary=summary, goal=goals[1]) # exploratory data analysis\n",
    "charts[0]"
   ]
  },
  {
   "cell_type": "markdown",
   "metadata": {},
   "source": [
    "### 4.3 Caching\n",
    "Each manager method takes a `textgen_config` argument which is a dictionary that can be used to configure the text generation process (with parameters for model, temperature, max_tokens, topk etc). One of the keys in this dictionary is `use_cache`. If set to `True`, the manager will cache the generated text associated with that method. Use for speedup and to avoid hitting API limits."
   ]
  },
  {
   "cell_type": "code",
   "execution_count": null,
   "metadata": {},
   "outputs": [],
   "source": [
    "# !pip install lida \n",
    "# !pip install lida[infographics] # for infographics support"
   ]
  },
  {
   "cell_type": "code",
   "execution_count": null,
   "metadata": {},
   "outputs": [],
   "source": [
    "from lida import Manager, TextGenerationConfig , llm  "
   ]
  },
  {
   "attachments": {},
   "cell_type": "markdown",
   "metadata": {},
   "source": [
    "## 5. Summarize Data, Generate Goals"
   ]
  },
  {
   "cell_type": "code",
   "execution_count": null,
   "metadata": {},
   "outputs": [],
   "source": [
    "lida = Manager(text_gen = llm(\"openai\", api_key=None)) # !! api key\n",
    "textgen_config = TextGenerationConfig(n=1, temperature=0.5, model=\"gpt-3.5-turbo-0301\", use_cache=True)\n",
    "#csvfile = \"https://raw.githubusercontent.com/uwdata/draco/master/data/cars.csv\"\n",
    "csvfile = \"./../../data/kaggle/IPL-2022.csv\"\n",
    "summary = lida.summarize(csvfile, summary_method=\"default\", textgen_config=textgen_config)  \n",
    "goals = lida.goals(summary, n=5, textgen_config=textgen_config)\n",
    "\n",
    "for goal in goals:\n",
    "    display(goal)"
   ]
  },
  {
   "cell_type": "code",
   "execution_count": null,
   "metadata": {},
   "outputs": [],
   "source": [
    "# goals can also be based on a persona \n",
    "# persona = \"a mechanic who wants to buy a car that is cheap but has good gas mileage\"\n",
    "persona = \"a enthusiastic sports fan who likes to use a casual tone and loves to know all the key stats of the game\"\n",
    "personal_goals = lida.goals(summary, n=5, persona=persona, textgen_config=textgen_config)\n",
    "for goal in personal_goals:\n",
    "    display(goal)"
   ]
  },
  {
   "attachments": {},
   "cell_type": "markdown",
   "metadata": {},
   "source": [
    "## 6. Generate Visualizations"
   ]
  },
  {
   "cell_type": "code",
   "execution_count": null,
   "metadata": {},
   "outputs": [],
   "source": [
    "# There are 5 goals above\n",
    "# Visualizations worked for i=0, 2, 3\n",
    "i = 0\n",
    "print(goals[i])\n",
    "\n",
    "library = \"seaborn\"\n",
    "textgen_config = TextGenerationConfig(n=1, temperature=0.2, use_cache=True)\n",
    "charts = lida.visualize(summary=summary, goal=goals[i], textgen_config=textgen_config, library=library)  \n",
    "charts[0]"
   ]
  },
  {
   "cell_type": "code",
   "execution_count": null,
   "metadata": {},
   "outputs": [],
   "source": [
    "# There are 5 goals above\n",
    "# Visualizations worked for i=0, 2, 3\n",
    "i = 2\n",
    "print(goals[i])\n",
    "\n",
    "library = \"seaborn\"\n",
    "textgen_config = TextGenerationConfig(n=1, temperature=0.2, use_cache=True)\n",
    "charts = lida.visualize(summary=summary, goal=goals[i], textgen_config=textgen_config, library=library)  \n",
    "charts[0]"
   ]
  },
  {
   "cell_type": "code",
   "execution_count": null,
   "metadata": {},
   "outputs": [],
   "source": [
    "# There are 5 goals above\n",
    "# Visualizations worked for i=0, 2, 3\n",
    "i = 3\n",
    "print(goals[i])\n",
    "\n",
    "library = \"seaborn\"\n",
    "textgen_config = TextGenerationConfig(n=1, temperature=0.2, use_cache=True)\n",
    "charts = lida.visualize(summary=summary, goal=goals[i], textgen_config=textgen_config, library=library)  \n",
    "charts[0]"
   ]
  },
  {
   "cell_type": "markdown",
   "metadata": {},
   "source": [
    "### 6.1 Generate visualization via a \"user query\"   "
   ]
  },
  {
   "cell_type": "code",
   "execution_count": null,
   "metadata": {},
   "outputs": [],
   "source": [
    "#user_query = \"What is the average price of cars by type?\"\n",
    "user_query = \"What is the average runs scored by a team in a given stadium?\"\n",
    "textgen_config = TextGenerationConfig(n=1, temperature=0.2, use_cache=True)\n",
    "charts = lida.visualize(summary=summary, goal=user_query, textgen_config=textgen_config)  \n",
    "charts[0]"
   ]
  },
  {
   "cell_type": "code",
   "execution_count": null,
   "metadata": {},
   "outputs": [],
   "source": [
    "user_query = \"Who won the most cricket games?\"\n",
    "textgen_config = TextGenerationConfig(n=1, temperature=0.2, use_cache=True)\n",
    "charts = lida.visualize(summary=summary, goal=user_query, textgen_config=textgen_config)  \n",
    "charts[0]"
   ]
  },
  {
   "attachments": {},
   "cell_type": "markdown",
   "metadata": {},
   "source": [
    "# 7. VizOps\n",
    "\n",
    "Given that LIDA represents visualizations as code,\n",
    "the VISGENERATOR also implements submodules\n",
    "to perform operations on this representation. \n",
    "\n",
    "This includes \n",
    "- **Natural language based visualization refinement**: Provides a conversational api to iteratively\n",
    "4Execution in a sandbox environment is recommended.\n",
    "refine generated code (e.g., translate chart t hindi\n",
    ". . . zoom in by 50% etc) which can then be executed to generate new visualizations.\n",
    "- **Visualization explanations and accessibility**:\n",
    "Generates natural language explanations (valuable\n",
    "for debugging and sensemaking) as well as accessibility descriptions (valuable for supporting users\n",
    "with visual impairments).\n",
    "\n",
    "- **Visualization code self-evaluation and repair**:\n",
    "Applies an LLM to self-evaluate generated code on\n",
    "multiple dimensions (see section 4.1.2).\n",
    "\n",
    "- **Visualization recommendation**: Given some context (goals, or an existing visualization), recommend additional visualizations to the user (e.g., for\n",
    "comparison, or to provide additional perspectives).\n",
    "\n"
   ]
  },
  {
   "cell_type": "markdown",
   "metadata": {},
   "source": [
    "### 7.1 Natural language based visualization refinement \n",
    "\n",
    "Given some code, modify it based on natural language instructions. This yields a new code snippet that can be executed to generate a new visualization."
   ]
  },
  {
   "cell_type": "code",
   "execution_count": null,
   "metadata": {},
   "outputs": [],
   "source": [
    "code = charts[0].code\n",
    "textgen_config = TextGenerationConfig(n=1, temperature=0, use_cache=True)\n",
    "instructions = [\"make the chart height and width equal\", \"change the color of the chart to red\", \"translate the chart to spanish\"]\n",
    "edited_charts = lida.edit(code=code,  summary=summary, instructions=instructions, library=library, textgen_config=textgen_config)\n",
    "edited_charts[0]"
   ]
  },
  {
   "attachments": {},
   "cell_type": "markdown",
   "metadata": {},
   "source": [
    "### 7.2 Visualization explanations and accessibility"
   ]
  },
  {
   "cell_type": "code",
   "execution_count": null,
   "metadata": {},
   "outputs": [],
   "source": [
    "explanations = lida.explain(code=code, library=library, textgen_config=textgen_config) \n",
    "for row in explanations[0]:\n",
    "    print(row[\"section\"],\" ** \", row[\"explanation\"])"
   ]
  },
  {
   "attachments": {},
   "cell_type": "markdown",
   "metadata": {},
   "source": [
    "### 7.3 Visualization code self-evaluation and repair"
   ]
  },
  {
   "cell_type": "code",
   "execution_count": null,
   "metadata": {},
   "outputs": [],
   "source": [
    "evaluations = lida.evaluate(code=code,  goal=goals[i], textgen_config=textgen_config, library=library)[0] \n",
    "for eval in evaluations:\n",
    "    print(eval[\"dimension\"], \"Score\" ,eval[\"score\"], \"/ 10\")\n",
    "    print(\"\\t\", eval[\"rationale\"][:200])\n",
    "    print(\"\\t**********************************\")"
   ]
  },
  {
   "cell_type": "markdown",
   "metadata": {},
   "source": [
    "## Visualization Recommendation"
   ]
  },
  {
   "cell_type": "code",
   "execution_count": null,
   "metadata": {},
   "outputs": [],
   "source": [
    "textgen_config = TextGenerationConfig(n=2, temperature=0.2, use_cache=True)\n",
    "recommended_charts =  lida.recommend(code=code, summary=summary, n=2,  textgen_config=textgen_config)"
   ]
  },
  {
   "cell_type": "code",
   "execution_count": null,
   "metadata": {},
   "outputs": [],
   "source": []
  },
  {
   "cell_type": "code",
   "execution_count": null,
   "metadata": {},
   "outputs": [],
   "source": [
    "print(f\"Recommended {len(recommended_charts)} charts\")\n",
    "for chart in recommended_charts:\n",
    "    display(chart) "
   ]
  },
  {
   "cell_type": "markdown",
   "metadata": {},
   "source": [
    "## Infographics (Beta)\n",
    "\n",
    "- Explores using LIDA to generate infographics from an existing visualization \n",
    "- Uses the `peacasso` package, and loads open source stable diffusion models \n",
    "- You will need to run `pip install lida[infographics]` to install the required dependencies.\n",
    "- Currently work in progress (work being done to post process infographics with chart axis and title overlays from the original visualization, add presets for different infographic styles, and add more stable diffusion models)\n"
   ]
  },
  {
   "cell_type": "code",
   "execution_count": null,
   "metadata": {},
   "outputs": [],
   "source": [
    "# !pip install lida[infographics] \n",
    "# ensure you have a GPU runtime"
   ]
  },
  {
   "cell_type": "code",
   "execution_count": null,
   "metadata": {},
   "outputs": [],
   "source": [
    "# 🚨 | Uncomment below to try it out only if you have access to \n",
    "#      a GPU Runtime in your GitHub Codespaces or Docker Desktop\n",
    "\n",
    "# infographics = lida.infographics(visualization = edited_charts[0].raster, n=1, style_prompt=\"pastel art, green pearly rain drops, highly detailed, no blur, white background\")"
   ]
  },
  {
   "cell_type": "code",
   "execution_count": null,
   "metadata": {},
   "outputs": [],
   "source": [
    "# 🚨 | Uncomment below to try it out only if you have access to \n",
    "#      a GPU Runtime in your GitHub Codespaces or Docker Desktop\n",
    "#      and successfully ran the previous cell\n",
    "from lida.utils import plot_raster\n",
    "# plot_raster([edited_charts[0].raster, infographics[\"images\"][0]]) "
   ]
  },
  {
   "cell_type": "code",
   "execution_count": null,
   "metadata": {},
   "outputs": [],
   "source": []
  }
 ],
 "metadata": {
  "kernelspec": {
   "display_name": "base",
   "language": "python",
   "name": "python3"
  },
  "language_info": {
   "codemirror_mode": {
    "name": "ipython",
    "version": 3
   },
   "file_extension": ".py",
   "mimetype": "text/x-python",
   "name": "python",
   "nbconvert_exporter": "python",
   "pygments_lexer": "ipython3",
   "version": "3.10.8"
  },
  "vscode": {
   "interpreter": {
    "hash": "189101fc34b85ec7417252a331b6b3ef556b71030ac1f6fe00bfbe1409305460"
   }
  }
 },
 "nbformat": 4,
 "nbformat_minor": 2
}
